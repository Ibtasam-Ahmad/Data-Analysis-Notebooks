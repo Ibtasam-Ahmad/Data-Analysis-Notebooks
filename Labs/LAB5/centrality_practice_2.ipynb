{
 "cells": [
  {
   "cell_type": "markdown",
   "id": "93b9852c-4705-4b11-953e-9e131dfc60bf",
   "metadata": {},
   "source": [
    "# Assignment 1 practice\n",
    "Open the edgelist file data/USPTO_2012_1_proj_edgelist.csv  \n",
    "Create a Graph object from the data   "
   ]
  },
  {
   "cell_type": "code",
   "execution_count": 1,
   "id": "9af980da",
   "metadata": {
    "scrolled": true
   },
   "outputs": [
    {
     "name": "stdout",
     "output_type": "stream",
     "text": [
      "['1', '2']\n",
      "['2', '3']\n",
      "['3', '1']\n",
      "['2', '4']\n",
      "['1', '4']\n",
      "['1', '5']\n",
      "['2', '5']\n",
      "['3', '5']\n",
      "['5', '6']\n",
      "['6', '7']\n",
      "['6', '8']\n",
      "['6', '9']\n",
      "['7', '8']\n",
      "['7', '9']\n",
      "['9', '10']\n",
      "['6', '11']\n",
      "['11', '12']\n",
      "['11', '13']\n",
      "['11', '14']\n",
      "['12', '15']\n",
      "['13', '14']\n",
      "['12', '13']\n"
     ]
    }
   ],
   "source": [
    "# let's also get a network from the folder \"data\"\n",
    "a=open(\"data/net1_edge_list.txt\",\"r\")\n",
    "for i in a:\n",
    "    n=i.strip().split()\n",
    "    print (n)\n",
    "a.close()\n",
    "\n"
   ]
  },
  {
   "cell_type": "markdown",
   "id": "ec552ed9-7c15-4ab7-bc9f-9b8783f49179",
   "metadata": {},
   "source": [
    "Calculate centrality measures of the Graph"
   ]
  },
  {
   "cell_type": "code",
   "execution_count": 2,
   "id": "5ca04406-d4ea-4aef-a81c-dae89b212caf",
   "metadata": {},
   "outputs": [
    {
     "ename": "NameError",
     "evalue": "name 'nx' is not defined",
     "output_type": "error",
     "traceback": [
      "\u001b[1;31m---------------------------------------------------------------------------\u001b[0m",
      "\u001b[1;31mNameError\u001b[0m                                 Traceback (most recent call last)",
      "Cell \u001b[1;32mIn[2], line 3\u001b[0m\n\u001b[0;32m      1\u001b[0m \u001b[38;5;66;03m# let's plot the network\u001b[39;00m\n\u001b[1;32m----> 3\u001b[0m nx\u001b[38;5;241m.\u001b[39mdraw(G, pos\u001b[38;5;241m=\u001b[39mnx\u001b[38;5;241m.\u001b[39mspring_layout(G),\n\u001b[0;32m      4\u001b[0m         alpha\u001b[38;5;241m=\u001b[39m\u001b[38;5;241m0.9\u001b[39m,node_size\u001b[38;5;241m=\u001b[39m\u001b[38;5;241m250\u001b[39m,\n\u001b[0;32m      5\u001b[0m         width\u001b[38;5;241m=\u001b[39m\u001b[38;5;241m0.3\u001b[39m,edge_color\u001b[38;5;241m=\u001b[39m\u001b[38;5;124m\"\u001b[39m\u001b[38;5;124mBlack\u001b[39m\u001b[38;5;124m\"\u001b[39m\n\u001b[0;32m      6\u001b[0m         ,node_color\u001b[38;5;241m=\u001b[39m\u001b[38;5;124m\"\u001b[39m\u001b[38;5;124mRed\u001b[39m\u001b[38;5;124m\"\u001b[39m,with_labels\u001b[38;5;241m=\u001b[39m\u001b[38;5;28;01mTrue\u001b[39;00m,font_size\u001b[38;5;241m=\u001b[39m\u001b[38;5;241m12\u001b[39m)\n",
      "\u001b[1;31mNameError\u001b[0m: name 'nx' is not defined"
     ]
    }
   ],
   "source": [
    "# let's plot the network\n",
    "\n",
    "nx.draw(G, pos=nx.spring_layout(G),\n",
    "        alpha=0.9,node_size=250,\n",
    "        width=0.3,edge_color=\"Black\"\n",
    "        ,node_color=\"Red\",with_labels=True,font_size=12)\n",
    "\n"
   ]
  },
  {
   "cell_type": "markdown",
   "id": "4ddf23a8-c991-41ec-9fe9-7d3b1101dd0f",
   "metadata": {},
   "source": [
    "What do we learn from these centrality measures?"
   ]
  },
  {
   "cell_type": "code",
   "execution_count": 3,
   "id": "aebc9d42-cad0-4639-9fde-caa55c9b87c6",
   "metadata": {},
   "outputs": [
    {
     "name": "stdout",
     "output_type": "stream",
     "text": [
      "['ID', 'COUNTRY', 'EMPLOYEES']\n",
      "['1', 'IT', '50']\n",
      "['2', 'IT', '65']\n",
      "['3', 'IT', '30']\n",
      "['4', 'IT', '10']\n",
      "['5', 'IT', '60']\n",
      "['6', 'FR', '100']\n",
      "['7', 'FR', '35']\n",
      "['8', 'FR', '20']\n",
      "['9', 'FR', '40']\n",
      "['10', 'FR', '10']\n",
      "['11', 'GE', '60']\n",
      "['12', 'GE', '20']\n",
      "['13', 'GE', '25']\n",
      "['14', 'GE', '10']\n",
      "['15', 'GE', '15']\n"
     ]
    }
   ],
   "source": [
    "# what about the attributes?\n",
    "\n",
    "a=open(\"data/net1_attributes.txt\",\"r\")\n",
    "for i in a:\n",
    "    n=i.strip().split()\n",
    "    print (n)\n",
    "a.close()\n",
    "\n"
   ]
  },
  {
   "cell_type": "markdown",
   "id": "bfc0cc3f-8c72-4715-9bca-a7e9abee9c16",
   "metadata": {},
   "source": [
    "Open the attributes file data/USPTO_2012_1_proj_attributes.csv   "
   ]
  },
  {
   "cell_type": "code",
   "execution_count": 4,
   "id": "055ca1b7-4ee5-4545-961a-ea0b5a09052d",
   "metadata": {},
   "outputs": [
    {
     "ename": "NameError",
     "evalue": "name 'G' is not defined",
     "output_type": "error",
     "traceback": [
      "\u001b[1;31m---------------------------------------------------------------------------\u001b[0m",
      "\u001b[1;31mNameError\u001b[0m                                 Traceback (most recent call last)",
      "Cell \u001b[1;32mIn[4], line 2\u001b[0m\n\u001b[0;32m      1\u001b[0m \u001b[38;5;66;03m# let's check if it worked\u001b[39;00m\n\u001b[1;32m----> 2\u001b[0m \u001b[38;5;28;01mfor\u001b[39;00m i \u001b[38;5;129;01min\u001b[39;00m G\u001b[38;5;241m.\u001b[39mnodes():\n\u001b[0;32m      3\u001b[0m     \u001b[38;5;28mprint\u001b[39m (i,G\u001b[38;5;241m.\u001b[39mnodes[i])\n",
      "\u001b[1;31mNameError\u001b[0m: name 'G' is not defined"
     ]
    }
   ],
   "source": [
    "# let's check if it worked\n",
    "for i in G.nodes():\n",
    "    print (i,G.nodes[i])\n",
    "\n"
   ]
  },
  {
   "cell_type": "markdown",
   "id": "7efa3aec-385b-490f-b7ab-9b80ea50597c",
   "metadata": {},
   "source": [
    "Calculate correlations between centrality measures and attributes."
   ]
  },
  {
   "cell_type": "code",
   "execution_count": null,
   "id": "a35ccdd3-0468-41fd-95f9-249a76db78bc",
   "metadata": {},
   "outputs": [],
   "source": [
    "\n"
   ]
  },
  {
   "cell_type": "markdown",
   "id": "1c68fd0c-39f2-4e0b-a218-c8edf8f4422d",
   "metadata": {},
   "source": [
    "Are there any statisically significant correlations between centrality and attributes?  \n",
    "What do we learn from this?"
   ]
  }
 ],
 "metadata": {
  "kernelspec": {
   "display_name": "Python 3 (ipykernel)",
   "language": "python",
   "name": "python3"
  },
  "language_info": {
   "codemirror_mode": {
    "name": "ipython",
    "version": 3
   },
   "file_extension": ".py",
   "mimetype": "text/x-python",
   "name": "python",
   "nbconvert_exporter": "python",
   "pygments_lexer": "ipython3",
   "version": "3.11.5"
  }
 },
 "nbformat": 4,
 "nbformat_minor": 5
}
