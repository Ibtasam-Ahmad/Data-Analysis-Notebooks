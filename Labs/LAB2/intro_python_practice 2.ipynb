{
 "cells": [
  {
   "cell_type": "markdown",
   "metadata": {},
   "source": [
    "# Dictionaries"
   ]
  },
  {
   "cell_type": "markdown",
   "metadata": {},
   "source": [
    "In the space below write a code that starting from the two lists \"age\" and \"name\" creates a dictionary in which the keys are the names and the values correponding ages (age and name have the same order so that A has age 12, B has age 23 etc..)"
   ]
  },
  {
   "cell_type": "code",
   "execution_count": 1,
   "metadata": {},
   "outputs": [
    {
     "name": "stdout",
     "output_type": "stream",
     "text": [
      "{'A': 12, 'B': 23, 'C': 54, 'D': 12, 'E': 67, 'F': 23}\n"
     ]
    }
   ],
   "source": [
    "age = [12, 23, 54, 12, 67, 23]\n",
    "name = [\"A\", \"B\", \"C\", \"D\", \"E\", \"F\"]\n",
    "diz = {name[i]: age[i] for i in range(len(name))}\n",
    "\n",
    "print(diz)"
   ]
  },
  {
   "cell_type": "markdown",
   "metadata": {},
   "source": [
    "Below you will find and list of list. Each element of the list is list. Below write a code that creates a dictionary in which the keys are the first element in each list, and the values are the list of the remaining elements. For example one of the element of the dictionary should have the key AA correspondent to the list [\"Blue\",2,123] "
   ]
  },
  {
   "cell_type": "code",
   "execution_count": 2,
   "metadata": {},
   "outputs": [
    {
     "name": "stdout",
     "output_type": "stream",
     "text": [
      "{'AA': ['Blue', 2, 123], 'BB': ['Red', 21, 13], 'CC': ['Blue', 28, 123], 'DD': ['Green', 2, 123]}\n"
     ]
    }
   ],
   "source": [
    "mylist = [[\"AA\", \"Blue\", 2, 123], [\"BB\", \"Red\", 21, 13], [\"CC\", \"Blue\", 28, 123], [\"DD\", \"Green\", 2, 123]]\n",
    "dicz = {item[0]: item[1:] for item in mylist}\n",
    "print(dicz)"
   ]
  },
  {
   "cell_type": "code",
   "execution_count": 3,
   "metadata": {},
   "outputs": [],
   "source": []
  },
  {
   "cell_type": "markdown",
   "metadata": {},
   "source": [
    "In the space below write a code that evalutes the number of elements associated to each key"
   ]
  },
  {
   "cell_type": "code",
   "execution_count": 3,
   "metadata": {},
   "outputs": [
    {
     "name": "stdout",
     "output_type": "stream",
     "text": [
      "{'AA': 3, 'BB': 3, 'CC': 3, 'DD': 3}\n"
     ]
    }
   ],
   "source": [
    "elements_count = {k: len(v) for k, v in dicz.items()}\n",
    "print(elements_count)"
   ]
  },
  {
   "cell_type": "markdown",
   "metadata": {},
   "source": [
    "In the space below write a code that, without using setdefault, initializes to zeros all the values of a dictionary in which the keys are integer number from 0 to 10"
   ]
  },
  {
   "cell_type": "code",
   "execution_count": 4,
   "metadata": {},
   "outputs": [
    {
     "name": "stdout",
     "output_type": "stream",
     "text": [
      "{0: 0, 1: 0, 2: 0, 3: 0, 4: 0, 5: 0, 6: 0, 7: 0, 8: 0, 9: 0, 10: 0}\n"
     ]
    }
   ],
   "source": [
    "diz_zeros = {i: 0 for i in range(11)}\n",
    "print(diz_zeros)"
   ]
  },
  {
   "cell_type": "markdown",
   "metadata": {},
   "source": [
    "Repeat the operation using setdefault"
   ]
  },
  {
   "cell_type": "code",
   "execution_count": 6,
   "metadata": {},
   "outputs": [
    {
     "name": "stdout",
     "output_type": "stream",
     "text": [
      "{0: 0, 1: 0, 2: 0, 3: 0, 4: 0, 5: 0, 6: 0, 7: 0, 8: 0, 9: 0, 10: 0}\n"
     ]
    }
   ],
   "source": [
    "diz_zeros = {}\n",
    "for i in range(11):\n",
    "    diz_zeros.setdefault(i, 0)\n",
    "print(diz_zeros)"
   ]
  },
  {
   "cell_type": "markdown",
   "metadata": {},
   "source": [
    "In the space below write a code that, without using setdefault, creates a dictionary to map each element in the list to an integer"
   ]
  },
  {
   "cell_type": "code",
   "execution_count": 7,
   "metadata": {},
   "outputs": [
    {
     "name": "stdout",
     "output_type": "stream",
     "text": [
      "{'AA': 0, 'CC': 1, 'DD': 2, 'EE': 3, 'LL': 4, 'RERE': 5}\n"
     ]
    }
   ],
   "source": [
    "mylist = [\"AA\", \"CC\", \"DD\", \"EE\", \"LL\", \"RERE\"]\n",
    "diz_map = {item: idx for idx, item in enumerate(mylist)}\n",
    "print(diz_map)"
   ]
  },
  {
   "cell_type": "markdown",
   "metadata": {},
   "source": [
    "Repeat the operation using setdefault"
   ]
  },
  {
   "cell_type": "code",
   "execution_count": 8,
   "metadata": {},
   "outputs": [
    {
     "name": "stdout",
     "output_type": "stream",
     "text": [
      "{'AA': 0, 'CC': 1, 'DD': 2, 'EE': 3, 'LL': 4, 'RERE': 5}\n"
     ]
    }
   ],
   "source": [
    "diz_map = {}\n",
    "for idx, item in enumerate(mylist):\n",
    "    diz_map.setdefault(item, idx)\n",
    "print(diz_map)"
   ]
  },
  {
   "cell_type": "markdown",
   "metadata": {},
   "source": [
    "# Functions"
   ]
  },
  {
   "cell_type": "markdown",
   "metadata": {},
   "source": [
    "In the space below write a function that takes as input a number x and returns x/10 "
   ]
  },
  {
   "cell_type": "code",
   "execution_count": 9,
   "metadata": {},
   "outputs": [
    {
     "name": "stdout",
     "output_type": "stream",
     "text": [
      "10.0\n"
     ]
    }
   ],
   "source": [
    "def divide_by_ten(x):\n",
    "    return x / 10\n",
    "\n",
    "# Example usage\n",
    "print(divide_by_ten(100))"
   ]
  },
  {
   "cell_type": "markdown",
   "metadata": {},
   "source": [
    "In the space below write a function that takes as input the list there and a given number n returning a list in which each element is divided by n"
   ]
  },
  {
   "cell_type": "code",
   "execution_count": 10,
   "metadata": {},
   "outputs": [
    {
     "name": "stdout",
     "output_type": "stream",
     "text": [
      "[0.5, 1.0, 1.5, 2.0, 2.0, 2.5, 2.5, 2.5, 3.0, 5.0]\n"
     ]
    }
   ],
   "source": [
    "def divide_list_by_n(lst, n):\n",
    "    return [item / n for item in lst]\n",
    "\n",
    "mylist = [1, 2, 3, 4, 4, 5, 5, 5, 6, 10]\n",
    "print(divide_list_by_n(mylist, 2))"
   ]
  },
  {
   "cell_type": "code",
   "execution_count": null,
   "metadata": {},
   "outputs": [],
   "source": []
  }
 ],
 "metadata": {
  "kernelspec": {
   "display_name": "Python 3 (ipykernel)",
   "language": "python",
   "name": "python3"
  },
  "language_info": {
   "codemirror_mode": {
    "name": "ipython",
    "version": 3
   },
   "file_extension": ".py",
   "mimetype": "text/x-python",
   "name": "python",
   "nbconvert_exporter": "python",
   "pygments_lexer": "ipython3",
   "version": "3.10.11"
  }
 },
 "nbformat": 4,
 "nbformat_minor": 4
}
