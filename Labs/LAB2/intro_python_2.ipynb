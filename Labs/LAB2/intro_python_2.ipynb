{
 "cells": [
  {
   "cell_type": "markdown",
   "metadata": {},
   "source": [
    "# Introduction to Python 2"
   ]
  },
  {
   "cell_type": "markdown",
   "metadata": {},
   "source": [
    "#### Recap from last lab \n",
    "What are each of these data types a, i, f, l?"
   ]
  },
  {
   "cell_type": "code",
   "execution_count": 2,
   "metadata": {},
   "outputs": [
    {
     "name": "stdout",
     "output_type": "stream",
     "text": [
      "['Ren', 4, 4.1]\n"
     ]
    }
   ],
   "source": [
    "a = \"ren\"\n",
    "i = 4\n",
    "f = 4.1\n",
    "l = [a,i,f]\n",
    "print (l)"
   ]
  },
  {
   "cell_type": "code",
   "execution_count": 3,
   "metadata": {},
   "outputs": [
    {
     "name": "stdout",
     "output_type": "stream",
     "text": [
      "[0, 1, 2, 3, 4, 5, 6, 7, 8, 9]\n"
     ]
    }
   ],
   "source": [
    "mylist=[]\n",
    "for i in range(10):\n",
    "    mylist.append(i)\n",
    "print(mylist)"
   ]
  },
  {
   "cell_type": "markdown",
   "metadata": {},
   "source": [
    "# Operators"
   ]
  },
  {
   "cell_type": "code",
   "execution_count": 1,
   "metadata": {},
   "outputs": [
    {
     "name": "stdout",
     "output_type": "stream",
     "text": [
      "2\n"
     ]
    }
   ],
   "source": [
    "# basic mathematical operators\n",
    "a=1\n",
    "a+=1 #sum 1  a=a+1\n",
    "print (a)"
   ]
  },
  {
   "cell_type": "code",
   "execution_count": 2,
   "metadata": {},
   "outputs": [
    {
     "name": "stdout",
     "output_type": "stream",
     "text": [
      "2\n"
     ]
    }
   ],
   "source": [
    "a=1\n",
    "a=a+1\n",
    "print(a)"
   ]
  },
  {
   "cell_type": "code",
   "execution_count": 3,
   "metadata": {},
   "outputs": [
    {
     "name": "stdout",
     "output_type": "stream",
     "text": [
      "1\n"
     ]
    }
   ],
   "source": [
    "a-=1 #subtract 1\n",
    "print (a)"
   ]
  },
  {
   "cell_type": "code",
   "execution_count": 4,
   "metadata": {},
   "outputs": [
    {
     "name": "stdout",
     "output_type": "stream",
     "text": [
      "2\n"
     ]
    }
   ],
   "source": [
    "b=2\n",
    "print (a*b) # product"
   ]
  },
  {
   "cell_type": "code",
   "execution_count": 5,
   "metadata": {},
   "outputs": [
    {
     "name": "stdout",
     "output_type": "stream",
     "text": [
      "1 2\n"
     ]
    }
   ],
   "source": [
    "print (a,b)"
   ]
  },
  {
   "cell_type": "code",
   "execution_count": 6,
   "metadata": {},
   "outputs": [
    {
     "name": "stdout",
     "output_type": "stream",
     "text": [
      "0.5\n"
     ]
    }
   ],
   "source": [
    "print (a/b) # division "
   ]
  },
  {
   "cell_type": "code",
   "execution_count": 7,
   "metadata": {},
   "outputs": [
    {
     "name": "stdout",
     "output_type": "stream",
     "text": [
      "0.5\n"
     ]
    }
   ],
   "source": [
    "# or\n",
    "b=2\n",
    "print (a/float(b))"
   ]
  },
  {
   "cell_type": "code",
   "execution_count": 8,
   "metadata": {},
   "outputs": [
    {
     "name": "stdout",
     "output_type": "stream",
     "text": [
      "4\n"
     ]
    }
   ],
   "source": [
    "print (b**2) #power"
   ]
  },
  {
   "cell_type": "code",
   "execution_count": 10,
   "metadata": {},
   "outputs": [
    {
     "name": "stdout",
     "output_type": "stream",
     "text": [
      "Apple Microsoft\n"
     ]
    }
   ],
   "source": [
    "# operations with strings\n",
    "\n",
    "a=\"Apple \"\n",
    "b=\"Microsoft\"\n",
    "c=a + b\n",
    "\n",
    "print (c)"
   ]
  },
  {
   "cell_type": "code",
   "execution_count": 11,
   "metadata": {},
   "outputs": [
    {
     "name": "stdout",
     "output_type": "stream",
     "text": [
      "Apple  Microsoft\n"
     ]
    }
   ],
   "source": [
    "# or\n",
    "c=a+\" \"+b\n",
    "print (c)"
   ]
  },
  {
   "cell_type": "code",
   "execution_count": 12,
   "metadata": {},
   "outputs": [
    {
     "name": "stdout",
     "output_type": "stream",
     "text": [
      "Apple -Microsoft\n"
     ]
    }
   ],
   "source": [
    "# or\n",
    "c=a+\"-\"+b\n",
    "print (c)"
   ]
  },
  {
   "cell_type": "code",
   "execution_count": 13,
   "metadata": {},
   "outputs": [
    {
     "name": "stdout",
     "output_type": "stream",
     "text": [
      "[1, 2, 3, 4]\n"
     ]
    }
   ],
   "source": [
    "# works also for lists\n",
    "a=[1,2]\n",
    "b=[3,4]\n",
    "print (a+b)\n",
    "# this is not the sum operation though!!"
   ]
  },
  {
   "cell_type": "code",
   "execution_count": 14,
   "metadata": {},
   "outputs": [
    {
     "ename": "TypeError",
     "evalue": "unsupported operand type(s) for -: 'list' and 'list'",
     "output_type": "error",
     "traceback": [
      "\u001b[1;31m---------------------------------------------------------------------------\u001b[0m",
      "\u001b[1;31mTypeError\u001b[0m                                 Traceback (most recent call last)",
      "Cell \u001b[1;32mIn[14], line 1\u001b[0m\n\u001b[1;32m----> 1\u001b[0m \u001b[38;5;28mprint\u001b[39m (a\u001b[38;5;241m-\u001b[39mb)\n",
      "\u001b[1;31mTypeError\u001b[0m: unsupported operand type(s) for -: 'list' and 'list'"
     ]
    }
   ],
   "source": [
    "print (a-b)"
   ]
  },
  {
   "cell_type": "code",
   "execution_count": null,
   "metadata": {},
   "outputs": [],
   "source": [
    "# the operation - is not defined for lists"
   ]
  },
  {
   "cell_type": "markdown",
   "metadata": {},
   "source": [
    "# More data types"
   ]
  },
  {
   "cell_type": "markdown",
   "metadata": {},
   "source": [
    "# Dictionaries"
   ]
  },
  {
   "cell_type": "markdown",
   "metadata": {},
   "source": [
    "Useful to store any object. They are formed by pairs of keys and their corresponding value"
   ]
  },
  {
   "cell_type": "code",
   "execution_count": 15,
   "metadata": {},
   "outputs": [
    {
     "name": "stdout",
     "output_type": "stream",
     "text": [
      "{}\n"
     ]
    }
   ],
   "source": [
    "#initialization\n",
    "diz={}\n",
    "print (diz)"
   ]
  },
  {
   "cell_type": "code",
   "execution_count": 16,
   "metadata": {},
   "outputs": [
    {
     "name": "stdout",
     "output_type": "stream",
     "text": [
      "{'Microsoft': 3, 'Apple': 4}\n"
     ]
    }
   ],
   "source": [
    "# adding elements\n",
    "diz['Microsoft']=3\n",
    "# Microsoft is the key associated to the value 3\n",
    "diz['Apple']=4\n",
    "print (diz)"
   ]
  },
  {
   "cell_type": "code",
   "execution_count": 17,
   "metadata": {},
   "outputs": [
    {
     "data": {
      "text/plain": [
       "4"
      ]
     },
     "execution_count": 17,
     "metadata": {},
     "output_type": "execute_result"
    }
   ],
   "source": [
    "diz['Apple']"
   ]
  },
  {
   "cell_type": "code",
   "execution_count": 18,
   "metadata": {},
   "outputs": [
    {
     "name": "stdout",
     "output_type": "stream",
     "text": [
      "dict_keys(['Microsoft', 'Apple'])\n"
     ]
    }
   ],
   "source": [
    "# you can get the keys\n",
    "print (diz.keys())"
   ]
  },
  {
   "cell_type": "code",
   "execution_count": 19,
   "metadata": {},
   "outputs": [
    {
     "name": "stdout",
     "output_type": "stream",
     "text": [
      "dict_values([3, 4])\n"
     ]
    }
   ],
   "source": [
    "# and the associated values\n",
    "print (diz.values())"
   ]
  },
  {
   "cell_type": "code",
   "execution_count": 20,
   "metadata": {},
   "outputs": [
    {
     "name": "stdout",
     "output_type": "stream",
     "text": [
      "{'Microsoft': 3, 'Apple': 4, 'Google': []}\n"
     ]
    }
   ],
   "source": [
    "# values can be any type\n",
    "diz[\"Google\"]=[]\n",
    "print (diz)"
   ]
  },
  {
   "cell_type": "code",
   "execution_count": 21,
   "metadata": {},
   "outputs": [
    {
     "name": "stdout",
     "output_type": "stream",
     "text": [
      "{'Microsoft': 3, 'Apple': 4, 'Google': [1]}\n"
     ]
    }
   ],
   "source": [
    "# now diz[\"nick\"] is a list, and you have all the methods of lists\n",
    "diz[\"Google\"].append(1)\n",
    "print (diz)"
   ]
  },
  {
   "cell_type": "code",
   "execution_count": 22,
   "metadata": {},
   "outputs": [
    {
     "name": "stdout",
     "output_type": "stream",
     "text": [
      "{'Microsoft': 3, 'Apple': 4, 'Google': [1], 'Huawei': set()}\n"
     ]
    }
   ],
   "source": [
    "# also sets\n",
    "diz[\"Huawei\"]=set()\n",
    "print (diz)"
   ]
  },
  {
   "cell_type": "code",
   "execution_count": 23,
   "metadata": {},
   "outputs": [
    {
     "name": "stdout",
     "output_type": "stream",
     "text": [
      "{'Microsoft': 3, 'Apple': 4, 'Google': [1], 'Huawei': 1}\n"
     ]
    }
   ],
   "source": [
    "# keys are unique! \n",
    "diz[\"Huawei\"]=1\n",
    "print (diz)"
   ]
  },
  {
   "cell_type": "code",
   "execution_count": 24,
   "metadata": {},
   "outputs": [
    {
     "name": "stdout",
     "output_type": "stream",
     "text": [
      "{'Microsoft': 3, 'Apple': 4, 'Google': [1], 'Huawei': 1, 'Tesla': {}}\n"
     ]
    }
   ],
   "source": [
    "# also you can nest dictionaries\n",
    "diz[\"Tesla\"]={}\n",
    "print (diz)"
   ]
  },
  {
   "cell_type": "code",
   "execution_count": 25,
   "metadata": {},
   "outputs": [],
   "source": [
    "# now diz[\"mary\"] is a dictionary \n",
    "diz[\"Tesla\"][\"age\"]=23"
   ]
  },
  {
   "cell_type": "code",
   "execution_count": 26,
   "metadata": {},
   "outputs": [
    {
     "name": "stdout",
     "output_type": "stream",
     "text": [
      "{'Microsoft': 3, 'Apple': 4, 'Google': [1], 'Huawei': 1, 'Tesla': {'age': 23}}\n"
     ]
    }
   ],
   "source": [
    "print (diz)"
   ]
  },
  {
   "cell_type": "code",
   "execution_count": 27,
   "metadata": {},
   "outputs": [
    {
     "name": "stdout",
     "output_type": "stream",
     "text": [
      "5\n"
     ]
    }
   ],
   "source": [
    "# the function len() works also in this case\n",
    "print (len(diz))"
   ]
  },
  {
   "cell_type": "code",
   "execution_count": 28,
   "metadata": {},
   "outputs": [
    {
     "name": "stdout",
     "output_type": "stream",
     "text": [
      "{1: 43, 2: 0}\n"
     ]
    }
   ],
   "source": [
    "# crucial and fast method to initialize a dictionary\n",
    "diz={1:43}\n",
    "diz.setdefault(2,0)\n",
    "print (diz)"
   ]
  },
  {
   "cell_type": "code",
   "execution_count": 29,
   "metadata": {},
   "outputs": [
    {
     "name": "stdout",
     "output_type": "stream",
     "text": [
      "{1: 43, 2: 0}\n"
     ]
    }
   ],
   "source": [
    "# this works only if the keys is not there\n",
    "diz.setdefault(1,0)\n",
    "print (diz)"
   ]
  },
  {
   "cell_type": "markdown",
   "metadata": {},
   "source": [
    "# More flow control "
   ]
  },
  {
   "cell_type": "markdown",
   "metadata": {},
   "source": [
    "## More uses of for loops "
   ]
  },
  {
   "cell_type": "code",
   "execution_count": 30,
   "metadata": {},
   "outputs": [
    {
     "name": "stdout",
     "output_type": "stream",
     "text": [
      "A 1\n",
      "B 2\n",
      "C 3\n"
     ]
    }
   ],
   "source": [
    "# or dictionaries\n",
    "diz={}\n",
    "diz[\"A\"]=1\n",
    "diz[\"B\"]=2\n",
    "diz[\"C\"]=3\n",
    "for i in diz:\n",
    "        print (i,diz[i])\n",
    "# the default is a loop in the keys"
   ]
  },
  {
   "cell_type": "code",
   "execution_count": null,
   "metadata": {},
   "outputs": [],
   "source": [
    "# you can be explicit\n",
    "for i in diz.keys():\n",
    "        print (i)"
   ]
  },
  {
   "cell_type": "code",
   "execution_count": null,
   "metadata": {},
   "outputs": [],
   "source": [
    "# or\n",
    "for i in diz.values():\n",
    "        print (i)"
   ]
  },
  {
   "cell_type": "code",
   "execution_count": null,
   "metadata": {},
   "outputs": [],
   "source": [
    "# you can use the for loop to create lists\n",
    "mylist=[]\n",
    "for i in range(10):\n",
    "    mylist.append(i)\n",
    "print (mylist)"
   ]
  },
  {
   "cell_type": "code",
   "execution_count": null,
   "metadata": {},
   "outputs": [],
   "source": [
    "#you can use the for loop to create dictionaries\n",
    "diz={}\n",
    "for i in range(10):\n",
    "        diz.setdefault(i,\"bla\")\n",
    "print (diz)"
   ]
  },
  {
   "cell_type": "code",
   "execution_count": null,
   "metadata": {},
   "outputs": [],
   "source": [
    "# different way to create lists\n",
    "mylist=[i for i in range(10)]\n",
    "print (mylist)"
   ]
  },
  {
   "cell_type": "code",
   "execution_count": null,
   "metadata": {},
   "outputs": [],
   "source": [
    "# or\n",
    "mylist=[i+10 for i in range(10) if i>5]\n",
    "print (mylist)"
   ]
  },
  {
   "cell_type": "markdown",
   "metadata": {},
   "source": [
    "## While loop"
   ]
  },
  {
   "cell_type": "code",
   "execution_count": null,
   "metadata": {},
   "outputs": [],
   "source": [
    "#basic\n",
    "a=0\n",
    "while a<10:\n",
    "        print (a)\n",
    "        a+=1"
   ]
  },
  {
   "cell_type": "markdown",
   "metadata": {},
   "source": [
    "## Conditionals"
   ]
  },
  {
   "cell_type": "code",
   "execution_count": null,
   "metadata": {},
   "outputs": [],
   "source": [
    "grade=70\n",
    "if grade >=90:\n",
    "    if grade==100:\n",
    "        print (\"A+\")\n",
    "    else:\n",
    "        print (\"A\")\n",
    "else:\n",
    "    if grade>=80:\n",
    "        print (\"B\")\n",
    "    else:\n",
    "        if grade>=70:\n",
    "            print (\"C\")\n",
    "        else:\n",
    "            print (\"F\")"
   ]
  },
  {
   "cell_type": "code",
   "execution_count": null,
   "metadata": {},
   "outputs": [],
   "source": [
    "# of more convenient\n",
    "grade=70\n",
    "if grade >=90:\n",
    "    if grade==100:\n",
    "        print (\"A+\")\n",
    "    else:\n",
    "        print (\"A\")\n",
    "elif grade>=80:\n",
    "    print (\"B\")\n",
    "elif grade>=70:\n",
    "    print (\"C\")\n",
    "else:\n",
    "    print (\"F\")"
   ]
  },
  {
   "cell_type": "code",
   "execution_count": null,
   "metadata": {},
   "outputs": [],
   "source": [
    "# in lists\n",
    "mylist=[]\n",
    "for i in range(10):\n",
    "    mylist.append(i)\n",
    "\n",
    "for i in mylist:\n",
    "    if i==9:\n",
    "        print (\"yes\")\n",
    "    "
   ]
  },
  {
   "cell_type": "code",
   "execution_count": null,
   "metadata": {},
   "outputs": [],
   "source": [
    "# or\n",
    "if 9 in mylist:\n",
    "    print (\"yes\")\n",
    "else:\n",
    "    print (\"no\")"
   ]
  },
  {
   "cell_type": "markdown",
   "metadata": {},
   "source": [
    "# Functions"
   ]
  },
  {
   "cell_type": "code",
   "execution_count": 31,
   "metadata": {},
   "outputs": [
    {
     "name": "stdout",
     "output_type": "stream",
     "text": [
      "11\n"
     ]
    }
   ],
   "source": [
    "def myfunc(x):\n",
    "    x+=10\n",
    "    return x\n",
    "    \n",
    "\n",
    "value=myfunc(1)\n",
    "print (value)"
   ]
  },
  {
   "cell_type": "code",
   "execution_count": null,
   "metadata": {},
   "outputs": [],
   "source": [
    "# computing the factorial of a number\n",
    "# remember the factorial of 5 is 5*4*3*2*1\n",
    "def factorial(x):\n",
    "    val=1\n",
    "    for i in range(1,x+1):\n",
    "        val=val*i\n",
    "    return val\n",
    "print (factorial(6))"
   ]
  },
  {
   "cell_type": "code",
   "execution_count": null,
   "metadata": {},
   "outputs": [],
   "source": [
    "# or\n",
    "def factorial(x):\n",
    "    val=1\n",
    "    for i in range(int(x),0,-1):\n",
    "        val=val*i\n",
    "    return val\n",
    "print (factorial(6))"
   ]
  },
  {
   "cell_type": "code",
   "execution_count": null,
   "metadata": {},
   "outputs": [],
   "source": [
    "# or\n",
    "def factorial(x):\n",
    "    val=1\n",
    "    for i in range(int(x),0,-1):\n",
    "        val=val*i\n",
    "    return val\n",
    "print (factorial())"
   ]
  },
  {
   "cell_type": "markdown",
   "metadata": {},
   "source": [
    "What happen if we do not put an integer?"
   ]
  },
  {
   "cell_type": "code",
   "execution_count": null,
   "metadata": {},
   "outputs": [],
   "source": [
    "# fibonacci sequence F(n) = F(n-1)+F(n-2) with F(0) = 0, F(1) = 1\n",
    "def fibonacci(n):\n",
    "    f={}\n",
    "    f[0]=0\n",
    "    f[1]=1\n",
    "    ite=2\n",
    "    while ite<=n:\n",
    "            f[ite]=f[ite-1]+f[ite-2]\n",
    "            ite+=1\n",
    "    return f\n",
    "\n",
    "print (fibonacci(9))"
   ]
  },
  {
   "cell_type": "code",
   "execution_count": null,
   "metadata": {},
   "outputs": [],
   "source": [
    "# fibonacci sequence F(n) = F(n-1)+F(n-2) with F(0) = 0, F(1) = 1\n",
    "def fibonacci(n):\n",
    "    f={}\n",
    "    f[0]=0\n",
    "    f[1]=1\n",
    "    ite=2\n",
    "    while ite<=n:\n",
    "            f[ite]=f[ite-1]+f[ite-2]\n",
    "            ite+=1\n",
    "    return f\n",
    "\n",
    "print (fibonacci(9).values())"
   ]
  },
  {
   "cell_type": "markdown",
   "metadata": {},
   "source": [
    "#  Importing modules"
   ]
  },
  {
   "cell_type": "code",
   "execution_count": null,
   "metadata": {},
   "outputs": [],
   "source": [
    "# example\n",
    "from numpy import* # this imports the entire library\n",
    "# you might want to import single function\n",
    "from random import uniform\n",
    "random.uniform(0,1)\n",
    "# or you can import all the random module\n",
    "from random import*\n",
    "uniform(0,1)\n",
    "# for more intricated coding it is suggested to do\n",
    "import numpy as np\n",
    "# by doing this all the functions need np. before"
   ]
  },
  {
   "cell_type": "markdown",
   "metadata": {},
   "source": [
    "## Case study\n",
    "Let's try to deal with a more complex data file (Some statistics about NFL quarterbacks)"
   ]
  },
  {
   "cell_type": "code",
   "execution_count": null,
   "metadata": {},
   "outputs": [],
   "source": [
    "a=open(\"data/qbdata.txt\",\"r\")\n",
    "for i in a:\n",
    "    line=i.strip().split()\n",
    "    print (line)              # as first thing let's look inside\n",
    "a.close()"
   ]
  },
  {
   "cell_type": "code",
   "execution_count": null,
   "metadata": {},
   "outputs": [],
   "source": [
    "# the simplest thing is create a dictionary for each player and then a list of attributes\n",
    "# one thing that we might want to do is to load of these info in a dictionary\n",
    "a=open(\"data/qbdata.txt\",\"r\")\n",
    "\n",
    "dict_data={}\n",
    "c=0\n",
    "for i in a:\n",
    "    if c>0:  # we dont care about the first line!\n",
    "        n=i.strip().split()\n",
    "        name=n[0]+\"-\"+n[1] # the name is the concatenation of the first two\n",
    "        print (name)\n",
    "        \n",
    "    c+=1  \n",
    "a.close()"
   ]
  },
  {
   "cell_type": "code",
   "execution_count": null,
   "metadata": {},
   "outputs": [],
   "source": [
    "a=open(\"data/qbdata.txt\",\"r\")\n",
    "\n",
    "dict_data={}\n",
    "c=0\n",
    "for i in a:\n",
    "    if c>0:  # we dont care about the first line!\n",
    "        n=i.strip().split()\n",
    "        name=n[0]+\"-\"+n[1] # the name is the concatenation of the first two\n",
    "        dict_data[name]=[]  # we declare this as list\n",
    "        for j in range(2,len(n)): # the attributes start from the third\n",
    "            dict_data[name].append(n[j])\n",
    "    c+=1  \n",
    "a.close()"
   ]
  },
  {
   "cell_type": "code",
   "execution_count": null,
   "metadata": {},
   "outputs": [],
   "source": [
    "print (dict_data[\"Tom-Brady\"])"
   ]
  },
  {
   "cell_type": "code",
   "execution_count": null,
   "metadata": {},
   "outputs": [],
   "source": [
    "# who is the best considering yards? \n",
    "list_yards=[]\n",
    "for i in dict_data:\n",
    "    print (i,dict_data[i])"
   ]
  },
  {
   "cell_type": "code",
   "execution_count": null,
   "metadata": {},
   "outputs": [],
   "source": [
    "list_yards=[]\n",
    "for i in dict_data:\n",
    "    list_yards.append([int(dict_data[i][4]),i]) # we add a list considering the 5th column\n",
    "    \n",
    "list_yards=sorted(list_yards,reverse=True) # to get the top we sort the list\n",
    "# let's see the top 10\n",
    "\n",
    "for i in range(10):\n",
    "    print (list_yards[i][1],list_yards[i][0])"
   ]
  },
  {
   "cell_type": "code",
   "execution_count": null,
   "metadata": {},
   "outputs": [],
   "source": [
    "# this is quick and in general ok\n",
    "# however we don't know the column number of each feature we care about. We always have to look at the original data\n",
    "# Next we will try to use a dictionary of dictionaries to store each attribute\n",
    "\n",
    "a=open(\"data/qbdata.txt\",\"r\")\n",
    "\n",
    "# the first problem to deal with is the presence of comas in the first line\n",
    "# it is actually not a problem, the comas are used to better separate name of fieds \"First Name\" for example\n",
    "# If you use \"First Name Second Name\" you cannot easily split them. Instead if you use \n",
    "# \"First Name, Second Name,...\" it is much easier to split\n",
    "c=0\n",
    "for i in a:\n",
    "    if c==0:   # this is a trick just to see the first line\n",
    "        n=i.strip().split(\",\")  # I am using the coma to split the first line\n",
    "        print (n)\n",
    "        break  # break is a command that tells python to exit the loop\n",
    "    c+=1  # this is actually useless!\n",
    "a.close()"
   ]
  },
  {
   "cell_type": "code",
   "execution_count": null,
   "metadata": {},
   "outputs": [],
   "source": [
    "# ok, now we can move to the next step\n",
    "\n",
    "a=open(\"data/qbdata.txt\",\"r\")\n",
    "dict_data={}\n",
    "id_col={}\n",
    "# the first problem to deal with is the presence of comas in the first line\n",
    "c=0\n",
    "for i in a:\n",
    "    \n",
    "    if c==0:   \n",
    "        n=i.strip().split(\",\")\n",
    "        # let's create a dictionary of with the names of each col\n",
    "        for j in range(len(n)):\n",
    "            id_col[j]=n[j]\n",
    "        print (id_col)\n",
    "    else:\n",
    "        n=i.strip().split()\n",
    "    c+=1\n",
    "a.close()"
   ]
  },
  {
   "cell_type": "code",
   "execution_count": null,
   "metadata": {},
   "outputs": [],
   "source": [
    "a=open(\"data/qbdata.txt\",\"r\")\n",
    "dict_data={}\n",
    "id_col={}\n",
    "# the first problem to deal with is the presence of comas in the first line\n",
    "c=0\n",
    "for i in a:\n",
    "    \n",
    "    if c==0:   \n",
    "        n=i.strip().split(\",\")\n",
    "        # let's create a dictionary of with the names of each col\n",
    "        for j in range(len(n)):\n",
    "            id_col[j]=n[j]\n",
    "    else:\n",
    "        n=i.strip().split()\n",
    "        name=n[0]+\"-\"+n[1]\n",
    "        dict_data[name]={} # same as before but now this is a dictionary not a list!\n",
    "        for j in range(2,len(n)):\n",
    "            dict_data[name][id_col[j]]=n[j]  # id_col[j] is the name of the column in position j!\n",
    "            \n",
    "    c+=1\n",
    "a.close()"
   ]
  },
  {
   "cell_type": "code",
   "execution_count": null,
   "metadata": {},
   "outputs": [],
   "source": [
    "# let's look at one \n",
    "print (dict_data[\"Tom-Brady\"][\"Rating\"])"
   ]
  },
  {
   "cell_type": "code",
   "execution_count": null,
   "metadata": {},
   "outputs": [],
   "source": [
    "# how do we get the top 10 in this case?\n",
    "\n",
    "list_yards=[]\n",
    "for i in dict_data:\n",
    "    list_yards.append([int(dict_data[i][\"Yards\"]),i]) # you don't have to remember the column number!\n",
    "    \n",
    "list_yards=sorted(list_yards,reverse=True) # to get the top we sort the list\n",
    "# let's see the top 10\n",
    "\n",
    "for i in range(10):\n",
    "    print (list_yards[i][1],list_yards[i][0])   \n"
   ]
  },
  {
   "cell_type": "code",
   "execution_count": null,
   "metadata": {},
   "outputs": [],
   "source": []
  }
 ],
 "metadata": {
  "anaconda-cloud": {},
  "kernelspec": {
   "display_name": "Python 3 (ipykernel)",
   "language": "python",
   "name": "python3"
  },
  "language_info": {
   "codemirror_mode": {
    "name": "ipython",
    "version": 3
   },
   "file_extension": ".py",
   "mimetype": "text/x-python",
   "name": "python",
   "nbconvert_exporter": "python",
   "pygments_lexer": "ipython3",
   "version": "3.11.5"
  }
 },
 "nbformat": 4,
 "nbformat_minor": 4
}
